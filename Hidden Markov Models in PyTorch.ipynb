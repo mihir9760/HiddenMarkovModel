{
 "cells": [
  {
   "cell_type": "markdown",
   "metadata": {},
   "source": [
    "## Hidden Markov Model (HMM)\n",
    "\n",
    "\n",
    "A Markov chain is useful when we need to compute a probability for a sequence\n",
    "of observable events. In many cases, however, the events we are interested in are\n",
    "hidden: we don’t observe them directly. For example we don’t normally observe\n",
    "part-of-speech tags in a text. Rather, we see words, and must infer the tags from the\n",
    "word sequence.\n",
    "\n",
    "In HMM the sequences are hidden because it is not possible to tell the state merely by the output symbol."
   ]
  },
  {
   "cell_type": "markdown",
   "metadata": {},
   "source": [
    "### Dynamic Programming (DP) Table\n",
    "A dynamic programming table is a way of making your algorithm more efficient by storing some of the intermediate results. It's useful when your algorithm has a lot of repetitive computations. "
   ]
  },
  {
   "cell_type": "code",
   "execution_count": 1,
   "metadata": {},
   "outputs": [],
   "source": [
    "def dptable(state_prob):\n",
    "    print(\" \".join((\"%8d\" % i) for i in range(state_prob.shape[0])))\n",
    "    for i, prob in enumerate(state_prob.T):\n",
    "        print(\"%.7s: \" % states[i] +\" \".join(\"%.7s\" % (\"%f\" % p) for p in prob))"
   ]
  },
  {
   "cell_type": "markdown",
   "metadata": {},
   "source": [
    "Let's consider a simple HMM with:\n",
    "* 2 hidden states: Healthy or Fever\n",
    "* 3 possible observations: Normal, Cold or Dizzy\n",
    "\n",
    "The model can then be used to predict if a person is feverish, at every time-step, from a given observation sequence. There are several paths through the hidden states (Healthy and Fever) that lead to the given sequence, each with different paths."
   ]
  },
  {
   "cell_type": "code",
   "execution_count": null,
   "metadata": {},
   "outputs": [],
   "source": [
    "import pandas as pd\n",
    "import numpy as np"
   ]
  },
  {
   "cell_type": "markdown",
   "metadata": {},
   "source": [
    "### Model Parameters \n",
    "\n",
    "* **Transition probability**: \n",
    "    * A matrix with the probabilities from transitioning from one state to the next state, over time.\n",
    "    * P(nextState|currentState)\n",
    "\n",
    "\n",
    "* **Emission probability**: \n",
    "    * A matrix with the probabilities of an observation (output) being generated from a state.\n",
    "    * P(Observation|currentState)\n",
    "\n",
    "\n",
    "* **Initial probability**: \n",
    "    * A starting probability distribution over states\n",
    "    * P(initialState)\n",
    "\n",
    "\n",
    "* **Final probability**: A final probability distribution over states"
   ]
  },
  {
   "cell_type": "code",
   "execution_count": null,
   "metadata": {},
   "outputs": [],
   "source": [
    "# A start distribution π is required; setting π = [0.6, 0.4] means a probability 0.6 of starting in state 1 (Healthy), \n",
    "# and a  probability 0.4 of starting in state 2 (Fever)\n",
    "p0 = np.array([0.6, 0.4])\n",
    "\n",
    "transition = np.array([[0.7, 0.3],\n",
    "                       [0.4, 0.6]])\n",
    "\n",
    "emissions = np.array([[0.5, 0.1], \n",
    "              [0.4, 0.3], \n",
    "              [0.1, 0.6]])\n",
    "\n",
    "states = {0:'Healthy', 1:'Fever'}\n",
    "observations = {0:'normal', 1:'cold', 2:'dizzy'}\n",
    "\n",
    "obs_seq = np.array([0, 0, 1, 2, 2]) # Sequence: Normal, Normal, Cold, Dizzy, Dizzy"
   ]
  },
  {
   "cell_type": "markdown",
   "metadata": {},
   "source": [
    "## Initial state vector\n",
    "We can think of the _i_th component of the vector as representing the probability that the chain starts in state $s_{i}$ "
   ]
  },
  {
   "cell_type": "code",
   "execution_count": 5,
   "metadata": {},
   "outputs": [
    {
     "data": {
      "text/html": [
       "<div>\n",
       "<style scoped>\n",
       "    .dataframe tbody tr th:only-of-type {\n",
       "        vertical-align: middle;\n",
       "    }\n",
       "\n",
       "    .dataframe tbody tr th {\n",
       "        vertical-align: top;\n",
       "    }\n",
       "\n",
       "    .dataframe thead th {\n",
       "        text-align: right;\n",
       "    }\n",
       "</style>\n",
       "<table border=\"1\" class=\"dataframe\">\n",
       "  <thead>\n",
       "    <tr style=\"text-align: right;\">\n",
       "      <th></th>\n",
       "      <th>Probability</th>\n",
       "    </tr>\n",
       "  </thead>\n",
       "  <tbody>\n",
       "    <tr>\n",
       "      <th>Healthy</th>\n",
       "      <td>0.6</td>\n",
       "    </tr>\n",
       "    <tr>\n",
       "      <th>Fever</th>\n",
       "      <td>0.4</td>\n",
       "    </tr>\n",
       "  </tbody>\n",
       "</table>\n",
       "</div>"
      ],
      "text/plain": [
       "         Probability\n",
       "Healthy          0.6\n",
       "Fever            0.4"
      ]
     },
     "execution_count": 5,
     "metadata": {},
     "output_type": "execute_result"
    }
   ],
   "source": [
    "df_p0 = pd.DataFrame(p0, index=[\"Healthy\", \"Fever\"], columns=[\"Probability\"])\n",
    "df_p0"
   ]
  },
  {
   "cell_type": "markdown",
   "metadata": {},
   "source": [
    "## Transition probability matrix\n",
    "Let's assume that if the person is Healthy now the probability that they will be healthy the next _\"time\"_ is 70%. So that leaves a 30% chance that the person will be Feverish the next _\"time\"_. \n",
    "\n",
    "Let's assume that if the person is Feverish now, there's a 40% chance that they'll become Healthy next _\"time\"_ and a 60% chance that they'll remain feverish next _\"time\"_."
   ]
  },
  {
   "cell_type": "code",
   "execution_count": null,
   "metadata": {},
   "outputs": [
    {
     "data": {
      "text/html": [
       "<div>\n",
       "<style scoped>\n",
       "    .dataframe tbody tr th:only-of-type {\n",
       "        vertical-align: middle;\n",
       "    }\n",
       "\n",
       "    .dataframe tbody tr th {\n",
       "        vertical-align: top;\n",
       "    }\n",
       "\n",
       "    .dataframe thead th {\n",
       "        text-align: right;\n",
       "    }\n",
       "</style>\n",
       "<table border=\"1\" class=\"dataframe\">\n",
       "  <thead>\n",
       "    <tr style=\"text-align: right;\">\n",
       "      <th></th>\n",
       "      <th>toHealthy</th>\n",
       "      <th>toFever</th>\n",
       "    </tr>\n",
       "  </thead>\n",
       "  <tbody>\n",
       "    <tr>\n",
       "      <th>fromHealthy</th>\n",
       "      <td>0.7</td>\n",
       "      <td>0.3</td>\n",
       "    </tr>\n",
       "    <tr>\n",
       "      <th>fromFever</th>\n",
       "      <td>0.4</td>\n",
       "      <td>0.6</td>\n",
       "    </tr>\n",
       "  </tbody>\n",
       "</table>\n",
       "</div>"
      ],
      "text/plain": [
       "             toHealthy  toFever\n",
       "fromHealthy        0.7      0.3\n",
       "fromFever          0.4      0.6"
      ]
     },
     "execution_count": 6,
     "metadata": {},
     "output_type": "execute_result"
    }
   ],
   "source": [
    "df_transition = pd.DataFrame(transition, index=[\"fromHealthy\", \"fromFever\"], columns=[\"toHealthy\", \"toFever\"])\n",
    "df_transition"
   ]
  },
  {
   "cell_type": "markdown",
   "metadata": {},
   "source": [
    "## Emission probability marix (Observation)\n",
    "Let's say that we have concluded that when a person is Healthy there's a 50% chance that they are Normal, a 40% chance that they are Cold, and a 10% chance that they are Dizzy.\n",
    "\n",
    "Let's say that we also concluded that when a person is Feverish there's a small 10% chance they are Normal, a 30% chance that they are Cold, and a much larger 60% chance that they are Dizzy."
   ]
  },
  {
   "cell_type": "code",
   "execution_count": null,
   "metadata": {},
   "outputs": [
    {
     "data": {
      "text/html": [
       "<div>\n",
       "<style scoped>\n",
       "    .dataframe tbody tr th:only-of-type {\n",
       "        vertical-align: middle;\n",
       "    }\n",
       "\n",
       "    .dataframe tbody tr th {\n",
       "        vertical-align: top;\n",
       "    }\n",
       "\n",
       "    .dataframe thead th {\n",
       "        text-align: right;\n",
       "    }\n",
       "</style>\n",
       "<table border=\"1\" class=\"dataframe\">\n",
       "  <thead>\n",
       "    <tr style=\"text-align: right;\">\n",
       "      <th></th>\n",
       "      <th>Healthy</th>\n",
       "      <th>Fever</th>\n",
       "    </tr>\n",
       "  </thead>\n",
       "  <tbody>\n",
       "    <tr>\n",
       "      <th>Normal</th>\n",
       "      <td>0.5</td>\n",
       "      <td>0.1</td>\n",
       "    </tr>\n",
       "    <tr>\n",
       "      <th>Cold</th>\n",
       "      <td>0.4</td>\n",
       "      <td>0.3</td>\n",
       "    </tr>\n",
       "    <tr>\n",
       "      <th>Dizzy</th>\n",
       "      <td>0.1</td>\n",
       "      <td>0.6</td>\n",
       "    </tr>\n",
       "  </tbody>\n",
       "</table>\n",
       "</div>"
      ],
      "text/plain": [
       "        Healthy  Fever\n",
       "Normal      0.5    0.1\n",
       "Cold        0.4    0.3\n",
       "Dizzy       0.1    0.6"
      ]
     },
     "execution_count": 7,
     "metadata": {},
     "output_type": "execute_result"
    }
   ],
   "source": [
    "df_emissions = pd.DataFrame(emissions, index=[\"Normal\", \"Cold\", \"Dizzy\"], columns=[\"Healthy\", \"Fever\"])\n",
    "df_emissions"
   ]
  },
  {
   "cell_type": "markdown",
   "metadata": {},
   "source": [
    "## Run Viterbi\n",
    "Calculate the Viterbi path, which is the most likely sequence of states that generated the sequence given the full model"
   ]
  },
  {
   "cell_type": "code",
   "execution_count": 8,
   "metadata": {},
   "outputs": [],
   "source": [
    "from HiddenMarkovModel import HiddenMarkovModel # Don't forget to add the local file HiddenMarkovModel.py to your present working directory"
   ]
  },
  {
   "cell_type": "code",
   "execution_count": 9,
   "metadata": {},
   "outputs": [],
   "source": [
    "model = HiddenMarkovModel(transition, emissions, p0) # Define the HMM\n",
    "\n",
    "states_seq, state_prob = model.viterbi_inference(obs_seq) # Calculate the Viterbi path"
   ]
  },
  {
   "cell_type": "code",
   "execution_count": 10,
   "metadata": {},
   "outputs": [
    {
     "name": "stdout",
     "output_type": "stream",
     "text": [
      "Observation sequences:  ['normal', 'normal', 'cold', 'dizzy', 'dizzy']\n"
     ]
    }
   ],
   "source": [
    "print(\"Observation sequences: \", [observations[o] for o in obs_seq])"
   ]
  },
  {
   "cell_type": "code",
   "execution_count": 11,
   "metadata": {},
   "outputs": [
    {
     "data": {
      "text/html": [
       "<style  type=\"text/css\" >\n",
       "    #T_8f21d202_e095_11e9_86b0_6c4008b0855crow0_col0 {\n",
       "            background-color:  yellow;\n",
       "        }    #T_8f21d202_e095_11e9_86b0_6c4008b0855crow0_col1 {\n",
       "            background-color:  yellow;\n",
       "        }    #T_8f21d202_e095_11e9_86b0_6c4008b0855crow0_col2 {\n",
       "            background-color:  yellow;\n",
       "        }    #T_8f21d202_e095_11e9_86b0_6c4008b0855crow1_col3 {\n",
       "            background-color:  yellow;\n",
       "        }    #T_8f21d202_e095_11e9_86b0_6c4008b0855crow1_col4 {\n",
       "            background-color:  yellow;\n",
       "        }</style><table id=\"T_8f21d202_e095_11e9_86b0_6c4008b0855c\" ><thead>    <tr>        <th class=\"blank level0\" ></th>        <th class=\"col_heading level0 col0\" >0</th>        <th class=\"col_heading level0 col1\" >1</th>        <th class=\"col_heading level0 col2\" >2</th>        <th class=\"col_heading level0 col3\" >3</th>        <th class=\"col_heading level0 col4\" >4</th>    </tr></thead><tbody>\n",
       "                <tr>\n",
       "                        <th id=\"T_8f21d202_e095_11e9_86b0_6c4008b0855clevel0_row0\" class=\"row_heading level0 row0\" >Health</th>\n",
       "                        <td id=\"T_8f21d202_e095_11e9_86b0_6c4008b0855crow0_col0\" class=\"data row0 col0\" >0.3</td>\n",
       "                        <td id=\"T_8f21d202_e095_11e9_86b0_6c4008b0855crow0_col1\" class=\"data row0 col1\" >0.105</td>\n",
       "                        <td id=\"T_8f21d202_e095_11e9_86b0_6c4008b0855crow0_col2\" class=\"data row0 col2\" >0.0294</td>\n",
       "                        <td id=\"T_8f21d202_e095_11e9_86b0_6c4008b0855crow0_col3\" class=\"data row0 col3\" >0.002058</td>\n",
       "                        <td id=\"T_8f21d202_e095_11e9_86b0_6c4008b0855crow0_col4\" class=\"data row0 col4\" >0.00021168</td>\n",
       "            </tr>\n",
       "            <tr>\n",
       "                        <th id=\"T_8f21d202_e095_11e9_86b0_6c4008b0855clevel0_row1\" class=\"row_heading level0 row1\" >Fever</th>\n",
       "                        <td id=\"T_8f21d202_e095_11e9_86b0_6c4008b0855crow1_col0\" class=\"data row1 col0\" >0.04</td>\n",
       "                        <td id=\"T_8f21d202_e095_11e9_86b0_6c4008b0855crow1_col1\" class=\"data row1 col1\" >0.009</td>\n",
       "                        <td id=\"T_8f21d202_e095_11e9_86b0_6c4008b0855crow1_col2\" class=\"data row1 col2\" >0.00945</td>\n",
       "                        <td id=\"T_8f21d202_e095_11e9_86b0_6c4008b0855crow1_col3\" class=\"data row1 col3\" >0.005292</td>\n",
       "                        <td id=\"T_8f21d202_e095_11e9_86b0_6c4008b0855crow1_col4\" class=\"data row1 col4\" >0.00190512</td>\n",
       "            </tr>\n",
       "    </tbody></table>"
      ],
      "text/plain": [
       "<pandas.io.formats.style.Styler at 0x1155432e8>"
      ]
     },
     "execution_count": 11,
     "metadata": {},
     "output_type": "execute_result"
    }
   ],
   "source": [
    "import torch\n",
    "\n",
    "# Transpose the state probability matrix. Move the tensor to cpu(). Convert torch tensor to numpy array. \n",
    "df = pd.DataFrame(torch.t(state_prob).cpu().numpy(), index=[\"Health\", \"Fever\"])\n",
    "\n",
    "def highlight_max(s):\n",
    "    '''\n",
    "    Highlight the maximum in a series in yellow.\n",
    "    '''\n",
    "    is_max = s == s.max()\n",
    "    return ['background-color: yellow' if v else '' for v in is_max]\n",
    "\n",
    "# Display the tensor\n",
    "df.style.apply(highlight_max, axis=0)"
   ]
  },
  {
   "cell_type": "code",
   "execution_count": 12,
   "metadata": {},
   "outputs": [
    {
     "name": "stdout",
     "output_type": "stream",
     "text": [
      "The most likely states are:  ['Healthy', 'Healthy', 'Healthy', 'Fever', 'Fever']\n"
     ]
    }
   ],
   "source": [
    "print(\"The most likely states are: \", [states[s.item()] for s in states_seq])"
   ]
  }
 ],
 "metadata": {
  "gist": {
   "data": {
    "description": "Hidden Markov Models in PyTorch.ipynb",
    "public": true
   },
   "id": ""
  },
  "kernelspec": {
   "display_name": "Python 3",
   "language": "python",
   "name": "python3"
  },
  "language_info": {
   "codemirror_mode": {
    "name": "ipython",
    "version": 3
   },
   "file_extension": ".py",
   "mimetype": "text/x-python",
   "name": "python",
   "nbconvert_exporter": "python",
   "pygments_lexer": "ipython3",
   "version": "3.7.3"
  },
  "varInspector": {
   "cols": {
    "lenName": 16,
    "lenType": 16,
    "lenVar": 40
   },
   "kernels_config": {
    "python": {
     "delete_cmd_postfix": "",
     "delete_cmd_prefix": "del ",
     "library": "var_list.py",
     "varRefreshCmd": "print(var_dic_list())"
    },
    "r": {
     "delete_cmd_postfix": ") ",
     "delete_cmd_prefix": "rm(",
     "library": "var_list.r",
     "varRefreshCmd": "cat(var_dic_list()) "
    }
   },
   "position": {
    "height": "202px",
    "left": "723px",
    "right": "20px",
    "top": "148px",
    "width": "447px"
   },
   "types_to_exclude": [
    "module",
    "function",
    "builtin_function_or_method",
    "instance",
    "_Feature"
   ],
   "window_display": false
  }
 },
 "nbformat": 4,
 "nbformat_minor": 2
}
